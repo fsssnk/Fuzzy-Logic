{
 "cells": [
  {
   "cell_type": "code",
   "execution_count": 13,
   "outputs": [],
   "source": [
    "# 1"
   ],
   "metadata": {
    "collapsed": false
   }
  },
  {
   "cell_type": "markdown",
   "source": [
    "fuzzy sets that are fuzzy number:\n",
    "-normal set: h(x)=1\n",
    "-a-cut A must be a closed interval ([a,b]) for a in (0,1]\n",
    "-support must be bounded\n",
    "\n",
    "(a) is normal, closed interval, supp is bounded, hence a fuzzy number\n",
    "(b) not normal, closed interval, supp is bounded, hence not a fuzzy number\n",
    "(c) is a normal set, closed interval but not convex, supp is bounded, hence a fuzzy number"
   ],
   "metadata": {
    "collapsed": false
   }
  },
  {
   "cell_type": "code",
   "execution_count": 14,
   "outputs": [],
   "source": [
    "def fuzzy_arithmetic(A=[], B=[], operation=\"\"):\n",
    "    if operation == \"+\":\n",
    "        return [A[0]+B[0], A[1]+B[1]]\n",
    "    elif operation == \"-\":\n",
    "        return [A[0]-B[1], A[1]-B[0]]\n",
    "    elif operation == \".\":\n",
    "        return [min(A[0]*B[0], A[0]*B[1], A[1]*B[0], A[1]*B[1]), max(A[0]*B[0], A[0]*B[1], A[1]*B[0], A[1]*B[1])]\n",
    "    elif operation == \"/\":\n",
    "        return [min(A[0]/B[0], A[0]/B[1], A[1]/B[0], A[1]/B[1]), max(A[0]/B[0], A[0]/B[1], A[1]/B[0], A[1]/B[1])]\n",
    "    else:\n",
    "        return None\n"
   ],
   "metadata": {
    "collapsed": false
   }
  },
  {
   "cell_type": "code",
   "execution_count": 15,
   "outputs": [],
   "source": [
    "# 3"
   ],
   "metadata": {
    "collapsed": false
   }
  },
  {
   "cell_type": "markdown",
   "source": [
    "### say that A=[a, b], E=[a, b], B=[c,d], F=[c,d]\n",
    "a)\n",
    "A+B = [a+c, b+d]\n",
    "E+F = [a+c, b+d]\n",
    "hence A+B subset of E+F\n",
    "\n",
    "b)\n",
    "A-B = [a-c, b-d]\n",
    "E-F = [a-c, b-d]\n",
    "hence A-B subset of E-F\n",
    "\n",
    "c)\n",
    "A.B = [min(ac, ad, bc, bc), max(ac, ad, bc, bc)]\n",
    "E.F = [min(c, ad, bc, bc), max(ac, ad, bc, bc)]\n",
    "hence A.B subset of E.F"
   ],
   "metadata": {
    "collapsed": false
   }
  },
  {
   "cell_type": "code",
   "execution_count": 16,
   "outputs": [],
   "source": [
    "# 4"
   ],
   "metadata": {
    "collapsed": false
   }
  },
  {
   "cell_type": "code",
   "execution_count": 17,
   "outputs": [],
   "source": [
    "# 5"
   ],
   "metadata": {
    "collapsed": false
   }
  },
  {
   "cell_type": "markdown",
   "source": [
    "A=[a, b]\n",
    "B=[c, d]\n",
    "A=A+B-B\n",
    "A+B=[a+c, b+d]\n",
    "A+B-B = [a+c-d, b+d-c] ≠ A\n",
    "The equation doesnt hold for fuzzy numbers because\n"
   ],
   "metadata": {
    "collapsed": false
   }
  }
 ],
 "metadata": {
  "kernelspec": {
   "display_name": "Python 3",
   "language": "python",
   "name": "python3"
  },
  "language_info": {
   "codemirror_mode": {
    "name": "ipython",
    "version": 2
   },
   "file_extension": ".py",
   "mimetype": "text/x-python",
   "name": "python",
   "nbconvert_exporter": "python",
   "pygments_lexer": "ipython2",
   "version": "2.7.6"
  }
 },
 "nbformat": 4,
 "nbformat_minor": 0
}
