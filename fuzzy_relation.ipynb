{
 "cells": [
  {
   "cell_type": "code",
   "execution_count": null,
   "metadata": {
    "collapsed": true
   },
   "outputs": [],
   "source": [
    "# 1"
   ]
  },
  {
   "cell_type": "markdown",
   "source": [
    "a)\n",
    "D_R = [1,100]\n",
    "b)\n",
    "[0, 0.99]\n",
    "c)\n",
    "0.99\n",
    "d)\n",
    "R^-1 represent the relation from the range to the domain"
   ],
   "metadata": {
    "collapsed": false
   }
  },
  {
   "cell_type": "code",
   "execution_count": null,
   "outputs": [],
   "source": [
    "# 2"
   ],
   "metadata": {
    "collapsed": false
   }
  },
  {
   "cell_type": "markdown",
   "source": [
    "a)\n",
    "Anti-reflexive (V is sibling of V), symmetric (V is sibling of F, F is sibling of V), transitive\n",
    "b)\n",
    "Reflexive, symmetric, transitive\n",
    "c)\n",
    "Reflexive, symmetric, transitive\n",
    "d)\n",
    "Reflexive, symmetric, transitive"
   ],
   "metadata": {
    "collapsed": false
   }
  },
  {
   "cell_type": "code",
   "execution_count": null,
   "outputs": [],
   "source": [
    "# 3"
   ],
   "metadata": {
    "collapsed": false
   }
  },
  {
   "cell_type": "markdown",
   "source": [
    "M1=\n",
    "M2=\n",
    "M3=\n",
    "M4=\n",
    "M5=\n",
    "M6=\n",
    "M7=\n"
   ],
   "metadata": {
    "collapsed": false
   }
  }
 ],
 "metadata": {
  "kernelspec": {
   "display_name": "Python 3",
   "language": "python",
   "name": "python3"
  },
  "language_info": {
   "codemirror_mode": {
    "name": "ipython",
    "version": 2
   },
   "file_extension": ".py",
   "mimetype": "text/x-python",
   "name": "python",
   "nbconvert_exporter": "python",
   "pygments_lexer": "ipython2",
   "version": "2.7.6"
  }
 },
 "nbformat": 4,
 "nbformat_minor": 0
}
