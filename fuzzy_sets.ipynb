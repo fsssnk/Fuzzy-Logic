{
 "cells": [
  {
   "cell_type": "code",
   "execution_count": 22,
   "outputs": [],
   "source": [
    "from fractions import Fraction"
   ],
   "metadata": {
    "collapsed": false
   }
  },
  {
   "cell_type": "code",
   "execution_count": 23,
   "outputs": [
    {
     "data": {
      "text/plain": "[(0, Fraction(0, 1)),\n (1, Fraction(1, 3)),\n (2, Fraction(1, 2)),\n (3, Fraction(3, 5)),\n (4, Fraction(2, 3)),\n (5, Fraction(5, 7)),\n (6, Fraction(3, 4)),\n (7, Fraction(7, 9)),\n (8, Fraction(4, 5)),\n (9, Fraction(9, 11)),\n (10, Fraction(5, 6))]"
     },
     "execution_count": 23,
     "metadata": {},
     "output_type": "execute_result"
    }
   ],
   "source": [
    "def A(x):\n",
    "    return Fraction(x, x+2)\n",
    "def B(x):\n",
    "    return Fraction(1,2**x)\n",
    "def membership_function_calculator(membership_function):\n",
    "    res = []\n",
    "    for x in range(0, 11):\n",
    "        temp = (x, membership_function(x))\n",
    "        res.append(temp)\n",
    "    return res"
   ],
   "metadata": {
    "collapsed": false
   }
  },
  {
   "cell_type": "code",
   "execution_count": 24,
   "outputs": [
    {
     "data": {
      "text/plain": "[(0, Fraction(1, 1)),\n (1, Fraction(1, 2)),\n (2, Fraction(1, 4)),\n (3, Fraction(1, 8)),\n (4, Fraction(1, 16)),\n (5, Fraction(1, 32)),\n (6, Fraction(1, 64)),\n (7, Fraction(1, 128)),\n (8, Fraction(1, 256)),\n (9, Fraction(1, 512)),\n (10, Fraction(1, 1024))]"
     },
     "execution_count": 24,
     "metadata": {},
     "output_type": "execute_result"
    }
   ],
   "source": [],
   "metadata": {
    "collapsed": false
   }
  }
 ],
 "metadata": {
  "kernelspec": {
   "display_name": "Python 3",
   "language": "python",
   "name": "python3"
  },
  "language_info": {
   "codemirror_mode": {
    "name": "ipython",
    "version": 2
   },
   "file_extension": ".py",
   "mimetype": "text/x-python",
   "name": "python",
   "nbconvert_exporter": "python",
   "pygments_lexer": "ipython2",
   "version": "2.7.6"
  }
 },
 "nbformat": 4,
 "nbformat_minor": 0
}
