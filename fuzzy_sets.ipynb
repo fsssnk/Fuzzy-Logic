{
 "cells": [
  {
   "cell_type": "code",
   "execution_count": 43,
   "outputs": [],
   "source": [
    "from fractions import Fraction"
   ],
   "metadata": {
    "collapsed": false
   }
  },
  {
   "cell_type": "code",
   "execution_count": 44,
   "outputs": [],
   "source": [
    "def A(x):\n",
    "    return Fraction(x, x+2)\n",
    "def B(x):\n",
    "    return Fraction(1,2**x)\n",
    "def C(x):\n",
    "    return Fraction(1, 1 + (10 * ((x-2)**2)))\n",
    "def membership_function_calculator(membership_function):\n",
    "    res = []\n",
    "    for x in range(0, 11):\n",
    "        temp = (x, membership_function(x))\n",
    "        res.append(temp)\n",
    "    return res\n",
    "A = membership_function_calculator(A)\n",
    "B = membership_function_calculator(B)\n",
    "C = membership_function_calculator(C)"
   ],
   "metadata": {
    "collapsed": false
   }
  },
  {
   "cell_type": "code",
   "execution_count": 45,
   "outputs": [],
   "source": [
    "# 1\n",
    "def calculate_complement(set=[()]):\n",
    "    res = []\n",
    "    for pair in set:\n",
    "        x = pair[0]\n",
    "        y = Fraction(1,1) - pair[1]\n",
    "        res.append((x,y))\n",
    "    return res\n",
    "A_ = calculate_complement(A)\n",
    "B_ = calculate_complement(B)\n",
    "C_ = calculate_complement(C)"
   ],
   "metadata": {
    "collapsed": false
   }
  },
  {
   "cell_type": "code",
   "execution_count": 45,
   "outputs": [],
   "source": [
    "#  2\n",
    "def fuzzy_union_or_tconorm(set_A=[], set_B=[]):\n",
    "\n",
    "\n"
   ],
   "metadata": {
    "collapsed": false
   }
  }
 ],
 "metadata": {
  "kernelspec": {
   "display_name": "Python 3",
   "language": "python",
   "name": "python3"
  },
  "language_info": {
   "codemirror_mode": {
    "name": "ipython",
    "version": 2
   },
   "file_extension": ".py",
   "mimetype": "text/x-python",
   "name": "python",
   "nbconvert_exporter": "python",
   "pygments_lexer": "ipython2",
   "version": "2.7.6"
  }
 },
 "nbformat": 4,
 "nbformat_minor": 0
}
