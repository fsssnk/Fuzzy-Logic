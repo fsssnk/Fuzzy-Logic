{
 "cells": [
  {
   "cell_type": "code",
   "execution_count": 568,
   "outputs": [],
   "source": [
    "from fractions import Fraction\n",
    "import numpy as np\n",
    "import matplotlib.pyplot as plt"
   ],
   "metadata": {
    "collapsed": false
   }
  },
  {
   "cell_type": "code",
   "execution_count": 569,
   "outputs": [],
   "source": [
    "def A(x):\n",
    "    return Fraction(x, x+2)\n",
    "def B(x):\n",
    "    return Fraction(1,2**x)\n",
    "def C(x):\n",
    "    return Fraction(1, 1 + (10 * ((x-2)**2)))\n",
    "def membership_function_calculator(membership_function):\n",
    "    res = []\n",
    "    for x in range(0, 11):\n",
    "        temp = (x, membership_function(x))\n",
    "        res.append(temp)\n",
    "    return res\n",
    "A = membership_function_calculator(A)\n",
    "B = membership_function_calculator(B)\n",
    "C = membership_function_calculator(C)"
   ],
   "metadata": {
    "collapsed": false
   }
  },
  {
   "cell_type": "code",
   "execution_count": 570,
   "outputs": [
    {
     "data": {
      "text/plain": "[(0, Fraction(0, 1)),\n (1, Fraction(1, 3)),\n (2, Fraction(1, 2)),\n (3, Fraction(3, 5)),\n (4, Fraction(2, 3)),\n (5, Fraction(5, 7)),\n (6, Fraction(3, 4)),\n (7, Fraction(7, 9)),\n (8, Fraction(4, 5)),\n (9, Fraction(9, 11)),\n (10, Fraction(5, 6))]"
     },
     "execution_count": 570,
     "metadata": {},
     "output_type": "execute_result"
    }
   ],
   "source": [
    "A"
   ],
   "metadata": {
    "collapsed": false
   }
  },
  {
   "cell_type": "code",
   "execution_count": 571,
   "outputs": [
    {
     "data": {
      "text/plain": "[(0, Fraction(1, 1)),\n (1, Fraction(1, 2)),\n (2, Fraction(1, 4)),\n (3, Fraction(1, 8)),\n (4, Fraction(1, 16)),\n (5, Fraction(1, 32)),\n (6, Fraction(1, 64)),\n (7, Fraction(1, 128)),\n (8, Fraction(1, 256)),\n (9, Fraction(1, 512)),\n (10, Fraction(1, 1024))]"
     },
     "execution_count": 571,
     "metadata": {},
     "output_type": "execute_result"
    }
   ],
   "source": [
    "B"
   ],
   "metadata": {
    "collapsed": false
   }
  },
  {
   "cell_type": "code",
   "execution_count": 572,
   "outputs": [
    {
     "data": {
      "text/plain": "[(0, Fraction(1, 41)),\n (1, Fraction(1, 11)),\n (2, Fraction(1, 1)),\n (3, Fraction(1, 11)),\n (4, Fraction(1, 41)),\n (5, Fraction(1, 91)),\n (6, Fraction(1, 161)),\n (7, Fraction(1, 251)),\n (8, Fraction(1, 361)),\n (9, Fraction(1, 491)),\n (10, Fraction(1, 641))]"
     },
     "execution_count": 572,
     "metadata": {},
     "output_type": "execute_result"
    }
   ],
   "source": [
    "C"
   ],
   "metadata": {
    "collapsed": false
   }
  },
  {
   "cell_type": "code",
   "execution_count": 573,
   "outputs": [],
   "source": [
    "# 1\n",
    "def calculate_complement(set=[()]):\n",
    "    res = []\n",
    "    for pair in set:\n",
    "        x = pair[0]\n",
    "        y = Fraction(1,1) - pair[1]\n",
    "        res.append((x,y))\n",
    "    return res\n",
    "A_ = calculate_complement(A)\n",
    "B_ = calculate_complement(B)\n",
    "C_ = calculate_complement(C)\n"
   ],
   "metadata": {
    "collapsed": false
   }
  },
  {
   "cell_type": "code",
   "execution_count": 574,
   "outputs": [
    {
     "data": {
      "text/plain": "[(0, Fraction(1, 1)),\n (1, Fraction(2, 3)),\n (2, Fraction(1, 2)),\n (3, Fraction(2, 5)),\n (4, Fraction(1, 3)),\n (5, Fraction(2, 7)),\n (6, Fraction(1, 4)),\n (7, Fraction(2, 9)),\n (8, Fraction(1, 5)),\n (9, Fraction(2, 11)),\n (10, Fraction(1, 6))]"
     },
     "execution_count": 574,
     "metadata": {},
     "output_type": "execute_result"
    }
   ],
   "source": [
    "A_"
   ],
   "metadata": {
    "collapsed": false
   }
  },
  {
   "cell_type": "code",
   "execution_count": 575,
   "outputs": [
    {
     "data": {
      "text/plain": "[(0, Fraction(0, 1)),\n (1, Fraction(1, 2)),\n (2, Fraction(3, 4)),\n (3, Fraction(7, 8)),\n (4, Fraction(15, 16)),\n (5, Fraction(31, 32)),\n (6, Fraction(63, 64)),\n (7, Fraction(127, 128)),\n (8, Fraction(255, 256)),\n (9, Fraction(511, 512)),\n (10, Fraction(1023, 1024))]"
     },
     "execution_count": 575,
     "metadata": {},
     "output_type": "execute_result"
    }
   ],
   "source": [
    "B_"
   ],
   "metadata": {
    "collapsed": false
   }
  },
  {
   "cell_type": "code",
   "execution_count": 576,
   "outputs": [
    {
     "data": {
      "text/plain": "[(0, Fraction(40, 41)),\n (1, Fraction(10, 11)),\n (2, Fraction(0, 1)),\n (3, Fraction(10, 11)),\n (4, Fraction(40, 41)),\n (5, Fraction(90, 91)),\n (6, Fraction(160, 161)),\n (7, Fraction(250, 251)),\n (8, Fraction(360, 361)),\n (9, Fraction(490, 491)),\n (10, Fraction(640, 641))]"
     },
     "execution_count": 576,
     "metadata": {},
     "output_type": "execute_result"
    }
   ],
   "source": [
    "C_"
   ],
   "metadata": {
    "collapsed": false
   }
  },
  {
   "cell_type": "code",
   "execution_count": 577,
   "outputs": [],
   "source": [
    "#  2\n",
    "def fuzzy_union_tconorm_max(set_A=[], set_B=[]):\n",
    "    res =  []\n",
    "    for A, B in zip(set_A, set_B):\n",
    "        if A[1] > B[1]:  # get max value\n",
    "            res.append(A)\n",
    "        else:\n",
    "            res.append(B)\n",
    "    return res\n",
    "\n",
    "AuB = fuzzy_union_tconorm_max(A, B)\n",
    "BuC = fuzzy_union_tconorm_max(B, C)"
   ],
   "metadata": {
    "collapsed": false
   }
  },
  {
   "cell_type": "code",
   "execution_count": 578,
   "outputs": [
    {
     "data": {
      "text/plain": "[(0, Fraction(1, 1)),\n (1, Fraction(1, 2)),\n (2, Fraction(1, 2)),\n (3, Fraction(3, 5)),\n (4, Fraction(2, 3)),\n (5, Fraction(5, 7)),\n (6, Fraction(3, 4)),\n (7, Fraction(7, 9)),\n (8, Fraction(4, 5)),\n (9, Fraction(9, 11)),\n (10, Fraction(5, 6))]"
     },
     "execution_count": 578,
     "metadata": {},
     "output_type": "execute_result"
    }
   ],
   "source": [
    "AuB"
   ],
   "metadata": {
    "collapsed": false
   }
  },
  {
   "cell_type": "code",
   "execution_count": 579,
   "outputs": [
    {
     "data": {
      "text/plain": "[(0, Fraction(1, 1)),\n (1, Fraction(1, 2)),\n (2, Fraction(1, 1)),\n (3, Fraction(1, 8)),\n (4, Fraction(1, 16)),\n (5, Fraction(1, 32)),\n (6, Fraction(1, 64)),\n (7, Fraction(1, 128)),\n (8, Fraction(1, 256)),\n (9, Fraction(1, 491)),\n (10, Fraction(1, 641))]"
     },
     "execution_count": 579,
     "metadata": {},
     "output_type": "execute_result"
    }
   ],
   "source": [
    "BuC"
   ],
   "metadata": {
    "collapsed": false
   }
  },
  {
   "cell_type": "code",
   "execution_count": 580,
   "outputs": [],
   "source": [
    "# 3\n",
    "def fuzzy_intersection_tnorm_min(set_A=[], set_B=[]):\n",
    "    res = []\n",
    "    for A, B in zip(set_A, set_B):\n",
    "        if A[1] < B[1]:  # get min value\n",
    "            res.append(A)\n",
    "        else:\n",
    "            res.append(B)\n",
    "    return res\n",
    "A_intersect_B = fuzzy_intersection_tnorm_min(A, B)\n",
    "B_intersect_C = fuzzy_intersection_tnorm_min(B, C)"
   ],
   "metadata": {
    "collapsed": false
   }
  },
  {
   "cell_type": "code",
   "execution_count": 581,
   "outputs": [
    {
     "data": {
      "text/plain": "[(0, Fraction(0, 1)),\n (1, Fraction(1, 3)),\n (2, Fraction(1, 4)),\n (3, Fraction(1, 8)),\n (4, Fraction(1, 16)),\n (5, Fraction(1, 32)),\n (6, Fraction(1, 64)),\n (7, Fraction(1, 128)),\n (8, Fraction(1, 256)),\n (9, Fraction(1, 512)),\n (10, Fraction(1, 1024))]"
     },
     "execution_count": 581,
     "metadata": {},
     "output_type": "execute_result"
    }
   ],
   "source": [
    "A_intersect_B"
   ],
   "metadata": {
    "collapsed": false
   }
  },
  {
   "cell_type": "code",
   "execution_count": 582,
   "outputs": [
    {
     "data": {
      "text/plain": "[(0, Fraction(1, 41)),\n (1, Fraction(1, 11)),\n (2, Fraction(1, 4)),\n (3, Fraction(1, 11)),\n (4, Fraction(1, 41)),\n (5, Fraction(1, 91)),\n (6, Fraction(1, 161)),\n (7, Fraction(1, 251)),\n (8, Fraction(1, 361)),\n (9, Fraction(1, 512)),\n (10, Fraction(1, 1024))]"
     },
     "execution_count": 582,
     "metadata": {},
     "output_type": "execute_result"
    }
   ],
   "source": [
    "B_intersect_C"
   ],
   "metadata": {
    "collapsed": false
   }
  },
  {
   "cell_type": "code",
   "execution_count": 583,
   "outputs": [
    {
     "data": {
      "text/plain": "[(0, Fraction(1, 1)),\n (1, Fraction(1, 2)),\n (2, Fraction(1, 1)),\n (3, Fraction(3, 5)),\n (4, Fraction(2, 3)),\n (5, Fraction(5, 7)),\n (6, Fraction(3, 4)),\n (7, Fraction(7, 9)),\n (8, Fraction(4, 5)),\n (9, Fraction(9, 11)),\n (10, Fraction(5, 6))]"
     },
     "execution_count": 583,
     "metadata": {},
     "output_type": "execute_result"
    }
   ],
   "source": [
    "# 4\n",
    "AorBorC=fuzzy_union_tconorm_max(fuzzy_union_tconorm_max(A,B),C)\n",
    "AorBorC"
   ],
   "metadata": {
    "collapsed": false
   }
  },
  {
   "cell_type": "code",
   "execution_count": 584,
   "outputs": [
    {
     "data": {
      "text/plain": "[(0, Fraction(0, 1)),\n (1, Fraction(1, 11)),\n (2, Fraction(1, 4)),\n (3, Fraction(1, 11)),\n (4, Fraction(1, 41)),\n (5, Fraction(1, 91)),\n (6, Fraction(1, 161)),\n (7, Fraction(1, 251)),\n (8, Fraction(1, 361)),\n (9, Fraction(1, 512)),\n (10, Fraction(1, 1024))]"
     },
     "execution_count": 584,
     "metadata": {},
     "output_type": "execute_result"
    }
   ],
   "source": [
    "# 5\n",
    "AandBandC = fuzzy_intersection_tnorm_min(fuzzy_intersection_tnorm_min(A,B), C)\n",
    "AandBandC"
   ],
   "metadata": {
    "collapsed": false
   }
  },
  {
   "cell_type": "code",
   "execution_count": 585,
   "outputs": [],
   "source": [
    "# 6\n",
    "AandC_ = fuzzy_intersection_tnorm_min(A, C_)\n",
    "BandC_ = fuzzy_union_tconorm_max(B_, C_)"
   ],
   "metadata": {
    "collapsed": false
   }
  },
  {
   "cell_type": "code",
   "execution_count": 586,
   "outputs": [
    {
     "data": {
      "text/plain": "[(0, Fraction(0, 1)),\n (1, Fraction(1, 3)),\n (2, Fraction(0, 1)),\n (3, Fraction(3, 5)),\n (4, Fraction(2, 3)),\n (5, Fraction(5, 7)),\n (6, Fraction(3, 4)),\n (7, Fraction(7, 9)),\n (8, Fraction(4, 5)),\n (9, Fraction(9, 11)),\n (10, Fraction(5, 6))]"
     },
     "execution_count": 586,
     "metadata": {},
     "output_type": "execute_result"
    }
   ],
   "source": [
    "AandC_"
   ],
   "metadata": {
    "collapsed": false
   }
  },
  {
   "cell_type": "code",
   "execution_count": 587,
   "outputs": [
    {
     "data": {
      "text/plain": "[(0, Fraction(40, 41)),\n (1, Fraction(10, 11)),\n (2, Fraction(3, 4)),\n (3, Fraction(10, 11)),\n (4, Fraction(40, 41)),\n (5, Fraction(90, 91)),\n (6, Fraction(160, 161)),\n (7, Fraction(250, 251)),\n (8, Fraction(360, 361)),\n (9, Fraction(511, 512)),\n (10, Fraction(1023, 1024))]"
     },
     "execution_count": 587,
     "metadata": {},
     "output_type": "execute_result"
    }
   ],
   "source": [
    "BandC_"
   ],
   "metadata": {
    "collapsed": false
   }
  },
  {
   "cell_type": "code",
   "execution_count": 588,
   "outputs": [
    {
     "data": {
      "text/plain": "[(0, Fraction(40, 41)),\n (1, Fraction(10, 11)),\n (2, Fraction(3, 4)),\n (3, Fraction(10, 11)),\n (4, Fraction(40, 41)),\n (5, Fraction(90, 91)),\n (6, Fraction(160, 161)),\n (7, Fraction(250, 251)),\n (8, Fraction(360, 361)),\n (9, Fraction(511, 512)),\n (10, Fraction(1023, 1024))]"
     },
     "execution_count": 588,
     "metadata": {},
     "output_type": "execute_result"
    }
   ],
   "source": [
    "BandC_2= calculate_complement(fuzzy_intersection_tnorm_min(B,C))\n",
    "BandC_2"
   ],
   "metadata": {
    "collapsed": false
   }
  },
  {
   "cell_type": "code",
   "execution_count": 589,
   "outputs": [],
   "source": [
    "# 7\n",
    "AandB = fuzzy_intersection_tnorm_min(A, B)\n",
    "AorB = fuzzy_union_tconorm_max(A, B)"
   ],
   "metadata": {
    "collapsed": false
   }
  },
  {
   "cell_type": "code",
   "execution_count": 590,
   "outputs": [],
   "source": [
    "# 8\n",
    "def plot(set, title):\n",
    "    x = [x[0] for x in set]\n",
    "    y = [y[1] for y in set]\n",
    "    plt.plot(x, y, marker=\".\")\n",
    "    plt.title(title)\n",
    "    plt.show()"
   ],
   "metadata": {
    "collapsed": false
   }
  },
  {
   "cell_type": "code",
   "execution_count": 591,
   "outputs": [
    {
     "data": {
      "text/plain": "<Figure size 640x480 with 1 Axes>",
      "image/png": "[encoded data removed]"
     },
     "metadata": {},
     "output_type": "display_data"
    }
   ],
   "source": [
    "plot(A, 'A')"
   ],
   "metadata": {
    "collapsed": false
   }
  },
  {
   "cell_type": "code",
   "execution_count": 592,
   "outputs": [
    {
     "data": {
      "text/plain": "<Figure size 640x480 with 1 Axes>",
      "image/png": "[encoded data removed]"
     },
     "metadata": {},
     "output_type": "display_data"
    }
   ],
   "source": [
    "plot(B, 'B')"
   ],
   "metadata": {
    "collapsed": false
   }
  },
  {
   "cell_type": "code",
   "execution_count": 593,
   "outputs": [
    {
     "data": {
      "text/plain": "<Figure size 640x480 with 1 Axes>",
      "image/png": "[encoded data removed]"
     },
     "metadata": {},
     "output_type": "display_data"
    }
   ],
   "source": [
    "plot(C, 'C')"
   ],
   "metadata": {
    "collapsed": false
   }
  },
  {
   "cell_type": "markdown",
   "source": [
    "0.5-cut A = [0.5, 10]\n",
    "0.5-cut B = [0,1]\n",
    "0.5-cut C = [1.684, 2.316] quadratic equation\n"
   ],
   "metadata": {
    "collapsed": false
   }
  },
  {
   "cell_type": "code",
   "execution_count": 594,
   "outputs": [],
   "source": [
    "# 9"
   ],
   "metadata": {
    "collapsed": false
   }
  },
  {
   "cell_type": "markdown",
   "source": [],
   "metadata": {
    "collapsed": false
   }
  },
  {
   "cell_type": "markdown",
   "source": [
    "Strong 0.5-cut A = (0.5, 10]\n",
    "Strong 0.5-cut B = [0,1)\n",
    "Strong 0.5-cut C = (1.684, 2.316) quadratic equation"
   ],
   "metadata": {
    "collapsed": false
   }
  },
  {
   "cell_type": "code",
   "execution_count": 595,
   "outputs": [
    {
     "data": {
      "text/plain": "[(0, Fraction(1, 41)),\n (1, Fraction(1, 11)),\n (2, Fraction(1, 1)),\n (3, Fraction(1, 11)),\n (4, Fraction(1, 41)),\n (5, Fraction(1, 91)),\n (6, Fraction(1, 161)),\n (7, Fraction(1, 251)),\n (8, Fraction(1, 361)),\n (9, Fraction(1, 491)),\n (10, Fraction(1, 641))]"
     },
     "execution_count": 595,
     "metadata": {},
     "output_type": "execute_result"
    }
   ],
   "source": [
    "# 10\n",
    "C"
   ],
   "metadata": {
    "collapsed": false
   }
  },
  {
   "cell_type": "markdown",
   "source": [
    "##### supp(A) / Strong 0-cut A = {x | A(x)>0}\n",
    "\n",
    "supp(A) = (0,10]\n",
    "supp(B) = [0,10]\n",
    "supp(C) = [0,10]"
   ],
   "metadata": {
    "collapsed": false
   }
  },
  {
   "cell_type": "code",
   "execution_count": 596,
   "outputs": [],
   "source": [
    "# 11"
   ],
   "metadata": {
    "collapsed": false
   }
  },
  {
   "cell_type": "markdown",
   "source": [
    "##### Normal fuzzy set if height (h) is = 1\n",
    "A is not normal\n",
    "B is normal\n",
    "C is normal"
   ],
   "metadata": {
    "collapsed": false
   }
  },
  {
   "cell_type": "markdown",
   "source": [
    "# notes\n",
    "- i think union or tconorm is like the maximum value of the membership degree of an element union with multiple sets\n",
    "- i think intersection or tnorm is like the minimum value of the membership degree of an element intersefction with multiple sets"
   ],
   "metadata": {
    "collapsed": false
   }
  }
 ],
 "metadata": {
  "kernelspec": {
   "display_name": "Python 3",
   "language": "python",
   "name": "python3"
  },
  "language_info": {
   "codemirror_mode": {
    "name": "ipython",
    "version": 2
   },
   "file_extension": ".py",
   "mimetype": "text/x-python",
   "name": "python",
   "nbconvert_exporter": "python",
   "pygments_lexer": "ipython2",
   "version": "2.7.6"
  }
 },
 "nbformat": 4,
 "nbformat_minor": 0
}
