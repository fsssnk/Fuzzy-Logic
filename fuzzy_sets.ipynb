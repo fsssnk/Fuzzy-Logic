{
 "cells": [
  {
   "cell_type": "code",
   "execution_count": 95,
   "outputs": [],
   "source": [
    "from fractions import Fraction"
   ],
   "metadata": {
    "collapsed": false
   }
  },
  {
   "cell_type": "code",
   "execution_count": 96,
   "outputs": [],
   "source": [
    "def A(x):\n",
    "    return Fraction(x, x+2)\n",
    "def B(x):\n",
    "    return Fraction(1,2**x)\n",
    "def C(x):\n",
    "    return Fraction(1, 1 + (10 * ((x-2)**2)))\n",
    "def membership_function_calculator(membership_function):\n",
    "    res = []\n",
    "    for x in range(0, 11):\n",
    "        temp = (x, membership_function(x))\n",
    "        res.append(temp)\n",
    "    return res\n",
    "A = membership_function_calculator(A)\n",
    "B = membership_function_calculator(B)\n",
    "C = membership_function_calculator(C)"
   ],
   "metadata": {
    "collapsed": false
   }
  },
  {
   "cell_type": "code",
   "execution_count": 97,
   "outputs": [
    {
     "data": {
      "text/plain": "[(0, Fraction(0, 1)),\n (1, Fraction(1, 3)),\n (2, Fraction(1, 2)),\n (3, Fraction(3, 5)),\n (4, Fraction(2, 3)),\n (5, Fraction(5, 7)),\n (6, Fraction(3, 4)),\n (7, Fraction(7, 9)),\n (8, Fraction(4, 5)),\n (9, Fraction(9, 11)),\n (10, Fraction(5, 6))]"
     },
     "execution_count": 97,
     "metadata": {},
     "output_type": "execute_result"
    }
   ],
   "source": [
    "A"
   ],
   "metadata": {
    "collapsed": false
   }
  },
  {
   "cell_type": "code",
   "execution_count": 98,
   "outputs": [
    {
     "data": {
      "text/plain": "[(0, Fraction(1, 1)),\n (1, Fraction(1, 2)),\n (2, Fraction(1, 4)),\n (3, Fraction(1, 8)),\n (4, Fraction(1, 16)),\n (5, Fraction(1, 32)),\n (6, Fraction(1, 64)),\n (7, Fraction(1, 128)),\n (8, Fraction(1, 256)),\n (9, Fraction(1, 512)),\n (10, Fraction(1, 1024))]"
     },
     "execution_count": 98,
     "metadata": {},
     "output_type": "execute_result"
    }
   ],
   "source": [
    "B"
   ],
   "metadata": {
    "collapsed": false
   }
  },
  {
   "cell_type": "code",
   "execution_count": 99,
   "outputs": [
    {
     "data": {
      "text/plain": "[(0, Fraction(1, 41)),\n (1, Fraction(1, 11)),\n (2, Fraction(1, 1)),\n (3, Fraction(1, 11)),\n (4, Fraction(1, 41)),\n (5, Fraction(1, 91)),\n (6, Fraction(1, 161)),\n (7, Fraction(1, 251)),\n (8, Fraction(1, 361)),\n (9, Fraction(1, 491)),\n (10, Fraction(1, 641))]"
     },
     "execution_count": 99,
     "metadata": {},
     "output_type": "execute_result"
    }
   ],
   "source": [
    "C"
   ],
   "metadata": {
    "collapsed": false
   }
  },
  {
   "cell_type": "code",
   "execution_count": 100,
   "outputs": [],
   "source": [
    "# 1\n",
    "def calculate_complement(set=[()]):\n",
    "    res = []\n",
    "    for pair in set:\n",
    "        x = pair[0]\n",
    "        y = Fraction(1,1) - pair[1]\n",
    "        res.append((x,y))\n",
    "    return res\n",
    "A_ = calculate_complement(A)\n",
    "B_ = calculate_complement(B)\n",
    "C_ = calculate_complement(C)\n"
   ],
   "metadata": {
    "collapsed": false
   }
  },
  {
   "cell_type": "code",
   "execution_count": 101,
   "outputs": [
    {
     "data": {
      "text/plain": "[(0, Fraction(1, 1)),\n (1, Fraction(2, 3)),\n (2, Fraction(1, 2)),\n (3, Fraction(2, 5)),\n (4, Fraction(1, 3)),\n (5, Fraction(2, 7)),\n (6, Fraction(1, 4)),\n (7, Fraction(2, 9)),\n (8, Fraction(1, 5)),\n (9, Fraction(2, 11)),\n (10, Fraction(1, 6))]"
     },
     "execution_count": 101,
     "metadata": {},
     "output_type": "execute_result"
    }
   ],
   "source": [
    "A_"
   ],
   "metadata": {
    "collapsed": false
   }
  },
  {
   "cell_type": "code",
   "execution_count": 102,
   "outputs": [
    {
     "data": {
      "text/plain": "[(0, Fraction(0, 1)),\n (1, Fraction(1, 2)),\n (2, Fraction(3, 4)),\n (3, Fraction(7, 8)),\n (4, Fraction(15, 16)),\n (5, Fraction(31, 32)),\n (6, Fraction(63, 64)),\n (7, Fraction(127, 128)),\n (8, Fraction(255, 256)),\n (9, Fraction(511, 512)),\n (10, Fraction(1023, 1024))]"
     },
     "execution_count": 102,
     "metadata": {},
     "output_type": "execute_result"
    }
   ],
   "source": [
    "B_"
   ],
   "metadata": {
    "collapsed": false
   }
  },
  {
   "cell_type": "code",
   "execution_count": 103,
   "outputs": [
    {
     "data": {
      "text/plain": "[(0, Fraction(40, 41)),\n (1, Fraction(10, 11)),\n (2, Fraction(0, 1)),\n (3, Fraction(10, 11)),\n (4, Fraction(40, 41)),\n (5, Fraction(90, 91)),\n (6, Fraction(160, 161)),\n (7, Fraction(250, 251)),\n (8, Fraction(360, 361)),\n (9, Fraction(490, 491)),\n (10, Fraction(640, 641))]"
     },
     "execution_count": 103,
     "metadata": {},
     "output_type": "execute_result"
    }
   ],
   "source": [
    "C_"
   ],
   "metadata": {
    "collapsed": false
   }
  },
  {
   "cell_type": "code",
   "execution_count": 104,
   "outputs": [],
   "source": [
    "#  2\n",
    "def fuzzy_union_tconorm_max(set_A=[], set_B=[]):\n",
    "    res =  []\n",
    "    for A, B in zip(set_A, set_B):\n",
    "        if A[1] > B[1]:  # get max value\n",
    "            res.append(A)\n",
    "        else:\n",
    "            res.append(B)\n",
    "    return res\n",
    "\n",
    "AuB = fuzzy_union_tconorm_max(A, B)\n",
    "BuC = fuzzy_union_tconorm_max(B, C)"
   ],
   "metadata": {
    "collapsed": false
   }
  },
  {
   "cell_type": "code",
   "execution_count": 105,
   "outputs": [
    {
     "data": {
      "text/plain": "[(0, Fraction(1, 1)),\n (1, Fraction(1, 2)),\n (2, Fraction(1, 2)),\n (3, Fraction(3, 5)),\n (4, Fraction(2, 3)),\n (5, Fraction(5, 7)),\n (6, Fraction(3, 4)),\n (7, Fraction(7, 9)),\n (8, Fraction(4, 5)),\n (9, Fraction(9, 11)),\n (10, Fraction(5, 6))]"
     },
     "execution_count": 105,
     "metadata": {},
     "output_type": "execute_result"
    }
   ],
   "source": [
    "AuB"
   ],
   "metadata": {
    "collapsed": false
   }
  },
  {
   "cell_type": "code",
   "execution_count": 106,
   "outputs": [
    {
     "data": {
      "text/plain": "[(0, Fraction(1, 1)),\n (1, Fraction(1, 2)),\n (2, Fraction(1, 1)),\n (3, Fraction(1, 8)),\n (4, Fraction(1, 16)),\n (5, Fraction(1, 32)),\n (6, Fraction(1, 64)),\n (7, Fraction(1, 128)),\n (8, Fraction(1, 256)),\n (9, Fraction(1, 491)),\n (10, Fraction(1, 641))]"
     },
     "execution_count": 106,
     "metadata": {},
     "output_type": "execute_result"
    }
   ],
   "source": [
    "BuC"
   ],
   "metadata": {
    "collapsed": false
   }
  },
  {
   "cell_type": "code",
   "execution_count": 107,
   "outputs": [],
   "source": [
    "# 3\n",
    "def fuzzy_intersection_tnorm_min(set_A=[], set_B=[]):\n",
    "    res = []\n",
    "    for A, B in zip(set_A, set_B):\n",
    "        if A[1] > B[1]:\n",
    "            res.append(A[1])\n",
    "        else:\n",
    "            res.append(B[1])\n",
    "    return res\n",
    "A_intersect_B = fuzzy_intersection_tnorm_min(A, B)\n",
    "B_intersect_C = fuzzy_intersection_tnorm_min(B, C)"
   ],
   "metadata": {
    "collapsed": false
   }
  },
  {
   "cell_type": "code",
   "execution_count": 108,
   "outputs": [
    {
     "data": {
      "text/plain": "[Fraction(1, 1),\n Fraction(1, 2),\n Fraction(1, 2),\n Fraction(3, 5),\n Fraction(2, 3),\n Fraction(5, 7),\n Fraction(3, 4),\n Fraction(7, 9),\n Fraction(4, 5),\n Fraction(9, 11),\n Fraction(5, 6)]"
     },
     "execution_count": 108,
     "metadata": {},
     "output_type": "execute_result"
    }
   ],
   "source": [
    "A_intersect_B"
   ],
   "metadata": {
    "collapsed": false
   }
  },
  {
   "cell_type": "code",
   "execution_count": 109,
   "outputs": [
    {
     "data": {
      "text/plain": "[Fraction(1, 1),\n Fraction(1, 2),\n Fraction(1, 1),\n Fraction(1, 8),\n Fraction(1, 16),\n Fraction(1, 32),\n Fraction(1, 64),\n Fraction(1, 128),\n Fraction(1, 256),\n Fraction(1, 491),\n Fraction(1, 641)]"
     },
     "execution_count": 109,
     "metadata": {},
     "output_type": "execute_result"
    }
   ],
   "source": [
    "B_intersect_C"
   ],
   "metadata": {
    "collapsed": false
   }
  },
  {
   "cell_type": "code",
   "execution_count": 110,
   "outputs": [
    {
     "data": {
      "text/plain": "[(0, Fraction(1, 1)),\n (1, Fraction(1, 2)),\n (2, Fraction(1, 1)),\n (3, Fraction(3, 5)),\n (4, Fraction(2, 3)),\n (5, Fraction(5, 7)),\n (6, Fraction(3, 4)),\n (7, Fraction(7, 9)),\n (8, Fraction(4, 5)),\n (9, Fraction(9, 11)),\n (10, Fraction(5, 6))]"
     },
     "execution_count": 110,
     "metadata": {},
     "output_type": "execute_result"
    }
   ],
   "source": [
    "# 4\n",
    "AorBorC=fuzzy_union_tconorm_max(fuzzy_union_tconorm_max(A,B),C)\n",
    "AorBorC"
   ],
   "metadata": {
    "collapsed": false
   }
  },
  {
   "cell_type": "code",
   "execution_count": 111,
   "outputs": [
    {
     "data": {
      "text/plain": "[Fraction(1, 1),\n Fraction(1, 2),\n Fraction(1, 1),\n Fraction(3, 5),\n Fraction(2, 3),\n Fraction(5, 7),\n Fraction(3, 4),\n Fraction(7, 9),\n Fraction(4, 5),\n Fraction(9, 11),\n Fraction(5, 6)]"
     },
     "execution_count": 111,
     "metadata": {},
     "output_type": "execute_result"
    }
   ],
   "source": [
    "# 5\n",
    "AandBandC = fuzzy_intersection_tnorm_min(fuzzy_union_tconorm_max(A,B), C)\n",
    "AandBandC"
   ],
   "metadata": {
    "collapsed": false
   }
  },
  {
   "cell_type": "code",
   "execution_count": null,
   "outputs": [],
   "source": [],
   "metadata": {
    "collapsed": false
   }
  }
 ],
 "metadata": {
  "kernelspec": {
   "display_name": "Python 3",
   "language": "python",
   "name": "python3"
  },
  "language_info": {
   "codemirror_mode": {
    "name": "ipython",
    "version": 2
   },
   "file_extension": ".py",
   "mimetype": "text/x-python",
   "name": "python",
   "nbconvert_exporter": "python",
   "pygments_lexer": "ipython2",
   "version": "2.7.6"
  }
 },
 "nbformat": 4,
 "nbformat_minor": 0
}
